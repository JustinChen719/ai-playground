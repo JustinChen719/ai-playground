{
 "cells": [
  {
   "cell_type": "code",
   "id": "f7c8172fda7c3f59",
   "metadata": {
    "ExecuteTime": {
     "end_time": "2025-02-14T08:02:56.931530Z",
     "start_time": "2025-02-14T08:02:56.515879Z"
    }
   },
   "source": [
    "from openai import OpenAI\n",
    "\n",
    "apikey = \"sk-3706c98e47604456ba92d1eea7b76e32\"\n",
    "client = OpenAI(api_key=apikey, base_url=\"https://api.deepseek.com\")\n",
    "models = [item for item in client.models.list()]\n",
    "model = models[0].id"
   ],
   "outputs": [],
   "execution_count": 3
  },
  {
   "metadata": {
    "collapsed": true,
    "ExecuteTime": {
     "end_time": "2025-02-14T08:04:31.294916Z",
     "start_time": "2025-02-14T08:03:55.046095Z"
    }
   },
   "cell_type": "code",
   "source": [
    "response = client.chat.completions.create(\n",
    "    model=model,\n",
    "    messages=[\n",
    "        {\"role\": \"system\", \"content\": \"你是一个编程助手\"},\n",
    "        {\"role\": \"user\", \"content\": \"你能简单总结一下python的高级使用方式吗\"},\n",
    "        # {\"role\": \"assistant\", \"content\": \"喵~ 当然可以啦！主人想听我撒娇吗？(*^▽^*) 喵喵喵~ 主人最好了，能不能摸摸我的头呀？我好喜欢主人呢，喵~ 今天也要一直陪着我哦，不然我会很寂寞的，喵~\"},\n",
    "        # {\"role\": \"user\", \"content\": \"摸摸\"},\n",
    "    ],\n",
    "    stream=True\n",
    ")\n",
    "\n",
    "if model == models[1].id:\n",
    "    for chunk in response:\n",
    "        if chunk.choices[0].delta.reasoning_content:\n",
    "            print(chunk.choices[0].delta.reasoning_content, end=\"\")\n",
    "        else:\n",
    "            print(chunk.choices[0].delta.content, end=\"\")\n",
    "\n",
    "else :\n",
    "    for chunk in response:\n",
    "        print(chunk.choices[0].delta.content, end=\"\")"
   ],
   "id": "initial_id",
   "outputs": [
    {
     "name": "stdout",
     "output_type": "stream",
     "text": [
      "当然可以！Python 的高级使用方式涵盖了多个方面，以下是一些关键点：\n",
      "\n",
      "1. **面向对象编程 (OOP)**：\n",
      "   - 使用类和对象来组织代码。\n",
      "   - 继承、封装和多态是 OOP 的核心概念。\n",
      "   - 通过 `__init__` 方法初始化对象，使用 `self` 引用实例。\n",
      "\n",
      "2. **装饰器**：\n",
      "   - 用于修改或扩展函数或方法的行为。\n",
      "   - 常见的装饰器包括 `@staticmethod`、`@classmethod` 和自定义装饰器。\n",
      "\n",
      "3. **生成器**：\n",
      "   - 使用 `yield` 关键字创建生成器函数，可以按需生成值，节省内存。\n",
      "   - 生成器表达式类似于列表推导式，但使用圆括号。\n",
      "\n",
      "4. **上下文管理器**：\n",
      "   - 使用 `with` 语句管理资源，如文件操作。\n",
      "   - 通过 `__enter__` 和 `__exit__` 方法实现自定义上下文管理器。\n",
      "\n",
      "5. **元编程**：\n",
      "   - 使用 `type` 动态创建类。\n",
      "   - 使用 `__metaclass__` 定义元类，控制类的创建行为。\n",
      "\n",
      "6. **并发和并行**：\n",
      "   - 使用 `threading` 模块进行多线程编程。\n",
      "   - 使用 `multiprocessing` 模块进行多进程编程。\n",
      "   - 使用 `asyncio` 进行异步编程。\n",
      "\n",
      "7. **函数式编程**：\n",
      "   - 使用 `map`、`filter` 和 `reduce` 等函数进行函数式编程。\n",
      "   - 使用 `lambda` 表达式创建匿名函数。\n",
      "\n",
      "8. **模块和包**：\n",
      "   - 使用 `import` 导入模块和包。\n",
      "   - 创建自定义模块和包，组织代码结构。\n",
      "\n",
      "9. **异常处理**：\n",
      "   - 使用 `try`、`except`、`finally` 处理异常。\n",
      "   - 自定义异常类，继承自 `Exception`。\n",
      "\n",
      "10. **高级数据结构**：\n",
      "    - 使用 `collections` 模块中的 `defaultdict`、`Counter`、`deque` 等数据结构。\n",
      "    - 使用 `itertools` 模块进行高效的迭代操作。\n",
      "\n",
      "11. **类型注解**：\n",
      "    - 使用 `typing` 模块进行类型注解，提高代码可读性和可维护性。\n",
      "    - 支持静态类型检查工具如 `mypy`。\n",
      "\n",
      "12. **性能优化**：\n",
      "    - 使用 `timeit` 模块测量代码执行时间。\n",
      "    - 使用 `cProfile` 进行性能分析。\n",
      "    - 使用 `Cython` 或 `PyPy` 提升性能。\n",
      "\n",
      "13. **数据库操作**：\n",
      "    - 使用 `sqlite3` 模块进行 SQLite 数据库操作。\n",
      "    - 使用 `SQLAlchemy` 进行 ORM 操作。\n",
      "\n",
      "14. **网络编程**：\n",
      "    - 使用 `socket` 模块进行底层网络编程。\n",
      "    - 使用 `requests` 库进行 HTTP 请求。\n",
      "\n",
      "15. **测试**：\n",
      "    - 使用 `unittest` 或 `pytest` 进行单元测试。\n",
      "    - 使用 `mock` 模块进行模拟测试。\n",
      "\n",
      "这些高级使用方式可以帮助你编写更高效、更可维护的 Python 代码。"
     ]
    }
   ],
   "execution_count": 5
  }
 ],
 "metadata": {
  "kernelspec": {
   "display_name": "Python 3",
   "language": "python",
   "name": "python3"
  },
  "language_info": {
   "codemirror_mode": {
    "name": "ipython",
    "version": 2
   },
   "file_extension": ".py",
   "mimetype": "text/x-python",
   "name": "python",
   "nbconvert_exporter": "python",
   "pygments_lexer": "ipython2",
   "version": "2.7.6"
  }
 },
 "nbformat": 4,
 "nbformat_minor": 5
}
