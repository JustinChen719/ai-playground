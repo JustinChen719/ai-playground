{
 "cells": [
  {
   "metadata": {
    "ExecuteTime": {
     "end_time": "2025-02-17T10:46:31.443659Z",
     "start_time": "2025-02-17T10:46:19.949018Z"
    }
   },
   "cell_type": "code",
   "source": [
    "import transformers, torch\n",
    "from transformers import AutoModelForCausalLM, AutoTokenizer\n",
    "\n",
    "model_name = \"deepseek-ai/DeepSeek-R1-Distill-Qwen-1.5B\"\n",
    "model = AutoModelForCausalLM.from_pretrained(model_name)\n",
    "tokenizer = AutoTokenizer.from_pretrained(model_name)\n",
    "\n",
    "device = 'cuda' if torch.cuda.is_available() else 'cpu'\n",
    "model.to(device)"
   ],
   "id": "142e79951b5cff0c",
   "outputs": [
    {
     "data": {
      "text/plain": [
       "Qwen2ForCausalLM(\n",
       "  (model): Qwen2Model(\n",
       "    (embed_tokens): Embedding(151936, 1536)\n",
       "    (layers): ModuleList(\n",
       "      (0-27): 28 x Qwen2DecoderLayer(\n",
       "        (self_attn): Qwen2Attention(\n",
       "          (q_proj): Linear(in_features=1536, out_features=1536, bias=True)\n",
       "          (k_proj): Linear(in_features=1536, out_features=256, bias=True)\n",
       "          (v_proj): Linear(in_features=1536, out_features=256, bias=True)\n",
       "          (o_proj): Linear(in_features=1536, out_features=1536, bias=False)\n",
       "        )\n",
       "        (mlp): Qwen2MLP(\n",
       "          (gate_proj): Linear(in_features=1536, out_features=8960, bias=False)\n",
       "          (up_proj): Linear(in_features=1536, out_features=8960, bias=False)\n",
       "          (down_proj): Linear(in_features=8960, out_features=1536, bias=False)\n",
       "          (act_fn): SiLU()\n",
       "        )\n",
       "        (input_layernorm): Qwen2RMSNorm((1536,), eps=1e-06)\n",
       "        (post_attention_layernorm): Qwen2RMSNorm((1536,), eps=1e-06)\n",
       "      )\n",
       "    )\n",
       "    (norm): Qwen2RMSNorm((1536,), eps=1e-06)\n",
       "    (rotary_emb): Qwen2RotaryEmbedding()\n",
       "  )\n",
       "  (lm_head): Linear(in_features=1536, out_features=151936, bias=False)\n",
       ")"
      ]
     },
     "execution_count": 1,
     "metadata": {},
     "output_type": "execute_result"
    }
   ],
   "execution_count": 1
  },
  {
   "metadata": {
    "ExecuteTime": {
     "end_time": "2025-02-17T10:48:59.398096Z",
     "start_time": "2025-02-17T10:47:57.318781Z"
    }
   },
   "cell_type": "code",
   "source": [
    "chat_history = [{\"role\":\"system\", \"content\":'你是DeepSeek-R1-Distill-Qwen-1.5B,一个友好的ai聊天助手'}]\n",
    "while True:\n",
    "    user_input = input(\"user:\")\n",
    "    if user_input.lower() in ['exit']:\n",
    "        break\n",
    "    chat_history.append({\"role\":\"user\", \"content\":user_input})\n",
    "    text = tokenizer.apply_chat_template(chat_history, tokenize=False, add_generation_prompt=True)\n",
    "    chat_prompt = tokenizer([text], return_tensors=\"pt\").to(model.device)\n",
    "    output = model.generate(**chat_prompt, max_new_tokens=1024, pad_token_id=tokenizer.eos_token_id)\n",
    "    generated_ids = [\n",
    "        output_ids[len(input_ids):] for input_ids, output_ids in zip(chat_prompt.input_ids, output)\n",
    "    ]\n",
    "    response = tokenizer.batch_decode(generated_ids, skip_special_tokens=True)[0]\n",
    "    print(f'\\n{response}')\n",
    "    chat_history.append({\"role\":\"assistant\", \"content\":response})\n"
   ],
   "id": "a92c518bf6e4db05",
   "outputs": [
    {
     "name": "stdout",
     "output_type": "stream",
     "text": [
      "\n",
      "嗯，用户问的是Python中的列表有什么用法，简单说一下。那我就得先回顾一下列表在Python中的基本用法吧。列表是一个数据结构，用来存储多个元素，这些元素可以是任何类型的，比如数字、字符串、元组等等。用户可能刚接触Python，对列表还不太熟悉，所以得用简单明了的方式解释。\n",
      "\n",
      "首先，列表的创建。用户可能会问，怎么创建一个简单的列表。我记得在Python中，可以用方括号把元素括起来，或者用逗号分隔。比如，[1,2,3]或者1,2,3。可能用户还想知道列表的类型，所以应该提到list类型。\n",
      "\n",
      "然后，列表的属性。列表有几个属性，比如长度，可以使用len()函数。还有索引，第一个元素是索引0。这些都是基本的，用户可能需要了解这些。\n",
      "\n",
      "列表的运算，比如增删改查。用户可能想知道列表可以进行很多操作，比如添加元素、删除元素、修改元素值，或者修改列表的长度。这些都是列表的特点，所以得一一说明。\n",
      "\n",
      "列表的遍历。用户可能想了解如何遍历列表中的元素，可以使用循环，比如for循环，这样可以逐个查看元素的值。\n",
      "\n",
      "还有列表的拼接，比如列表的扩展，可以使用extend()方法或者+操作符。用户可能需要知道这些方法如何使用，比如list1.extend(list2)或者list1 += list2。\n",
      "\n",
      "此外，用户可能还会问列表在其他数据结构中的应用，比如列表作为元组的替代品，或者列表作为列表的子集等。这些可能用户不太清楚，所以可以稍微提一下。\n",
      "\n",
      "最后，可能用户想了解列表与其他数据结构的区别，比如元组和列表的区别，都是有序的，但列表可以包含任何类型的元素，而元组是不可变的。所以可以简单说明这一点。\n",
      "\n",
      "总结一下，我需要把以上内容用简单易懂的语言组织出来，确保用户能清楚地理解列表在Python中的基本用法。同时，语气要友好，让用户感到被帮助。\n",
      "</think>\n",
      "\n",
      "在 Python 中，列表（列表）是一个数据结构，用于存储多个元素。以下是列表在 Python 中的一些基本用法和操作：\n",
      "\n",
      "1. **创建列表**：\n",
      "   - 使用方括号将元素括起来：`[1, 2, 3]`。\n",
      "   - 或者用逗号分隔：`1, 2, 3`。\n",
      "\n",
      "2. **访问列表的元素**：\n",
      "   - 列表有索引，第一个元素是索引 0，第二个是索引 1，依此类推。\n",
      "   - 例如：`my_list = [1, 2, 3, 4]`，那么 `my_list[0] = 5`。\n",
      "\n",
      "3. **属性**：\n",
      "   - 列表有长度属性：`len(my_list)`。\n",
      "   - 可以访问列表的第一个元素：`my_list[0]`。\n",
      "\n",
      "4. **列表的运算**：\n",
      "   - **增删改查**：\n",
      "     - `append()`：添加一个元素到列表末尾。\n",
      "     - `append(value)`。\n",
      "     - `remove(value)`：删除列表中与 `value` 相同的元素（如果存在则删除第一个出现的元素）。\n",
      "     - `del index`：删除指定索引的元素。\n",
      "     - `pop(index)`：删除指定索引的元素并返回它。\n",
      "     - `pop()`：删除最后一个元素并返回它。\n",
      "   - **拼接**：\n",
      "     - 列表的 `extend()` 方法：`list1.extend(list2)`。\n",
      "     - 或者用 `+` 运算符：`list1 + list2`。\n",
      "\n",
      "5. **遍历列表**：\n",
      "   - 使用 `for` 循环遍历列表：\n",
      "     ```python\n",
      "     for element in my_list:\n",
      "         print(element)\n",
      "     ```\n",
      "\n",
      "6. **列表的其他应用**：\n",
      "   - 列表可以作为元组的替代品，但列表是可变的，而元组是不可变的。\n",
      "   - 列表可以存储不同类型的元素，例如 `[\"apple\", 5, True, \"banana\"]`。\n",
      "\n",
      "总结来说，列表在 Python 中是一个非常有用的工具，可以用于存储和操作多个元素，支持丰富的操作和运算。\n"
     ]
    }
   ],
   "execution_count": 6
  }
 ],
 "metadata": {
  "kernelspec": {
   "display_name": "Python 3",
   "language": "python",
   "name": "python3"
  },
  "language_info": {
   "codemirror_mode": {
    "name": "ipython",
    "version": 2
   },
   "file_extension": ".py",
   "mimetype": "text/x-python",
   "name": "python",
   "nbconvert_exporter": "python",
   "pygments_lexer": "ipython2",
   "version": "2.7.6"
  }
 },
 "nbformat": 4,
 "nbformat_minor": 5
}
