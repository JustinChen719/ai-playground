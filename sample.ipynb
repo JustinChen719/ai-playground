{
 "cells": [
  {
   "metadata": {
    "ExecuteTime": {
     "end_time": "2025-01-17T14:08:38.318210Z",
     "start_time": "2025-01-17T14:08:38.312151Z"
    }
   },
   "cell_type": "code",
   "source": [
    "d = {}\n",
    "\n",
    "d['a']= \"a b c\"\n",
    "\n",
    "d1 = d.copy()\n",
    "\n"
   ],
   "id": "142e79951b5cff0c",
   "outputs": [
    {
     "name": "stderr",
     "output_type": "stream",
     "text": [
      "<>:7: SyntaxWarning: \"is\" with 'int' literal. Did you mean \"==\"?\n",
      "<>:7: SyntaxWarning: \"is\" with 'int' literal. Did you mean \"==\"?\n",
      "C:\\Users\\chenzhen\\AppData\\Local\\Temp\\ipykernel_8800\\1827778497.py:7: SyntaxWarning: \"is\" with 'int' literal. Did you mean \"==\"?\n",
      "  1 is 1\n"
     ]
    },
    {
     "data": {
      "text/plain": [
       "True"
      ]
     },
     "execution_count": 21,
     "metadata": {},
     "output_type": "execute_result"
    }
   ],
   "execution_count": 21
  }
 ],
 "metadata": {
  "kernelspec": {
   "display_name": "Python 3",
   "language": "python",
   "name": "python3"
  },
  "language_info": {
   "codemirror_mode": {
    "name": "ipython",
    "version": 2
   },
   "file_extension": ".py",
   "mimetype": "text/x-python",
   "name": "python",
   "nbconvert_exporter": "python",
   "pygments_lexer": "ipython2",
   "version": "2.7.6"
  }
 },
 "nbformat": 4,
 "nbformat_minor": 5
}
